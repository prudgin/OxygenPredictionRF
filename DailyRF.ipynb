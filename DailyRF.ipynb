{
  "nbformat": 4,
  "nbformat_minor": 5,
  "metadata": {
    "kernel_info": {
      "name": "python3"
    },
    "noteable": {
      "last_transaction_id": "d86db3d9-e1d7-4d55-aab9-0acbf95d2874"
    },
    "kernelspec": {
      "display_name": "Python 3.9",
      "language": "python",
      "name": "python3"
    },
    "selected_hardware_size": "small"
  },
  "cells": [
    {
      "id": "f204e669-210a-45f0-9091-bfdf9af3e110",
      "cell_type": "code",
      "metadata": {
        "jupyter": {
          "outputs_hidden": true,
          "source_hidden": false
        },
        "noteable": {
          "cell_type": "code",
          "output_collection_id": "bff6295b-02fa-4cd2-bed7-19a45069fef0"
        },
        "ExecuteTime": {
          "end_time": "2023-08-27T16:18:51.648034+00:00",
          "start_time": "2023-08-27T16:18:44.562240+00:00"
        }
      },
      "execution_count": null,
      "source": "!pip install pvlib",
      "outputs": []
    },
    {
      "id": "8c44ea4b-7935-484f-9ad4-ace7265d304c",
      "cell_type": "code",
      "metadata": {
        "jupyter": {
          "outputs_hidden": true,
          "source_hidden": false
        },
        "noteable": {
          "cell_type": "code",
          "output_collection_id": "c90303b6-5b29-4753-a009-f9f41716a1db"
        },
        "ExecuteTime": {
          "end_time": "2023-08-27T16:18:57.116336+00:00",
          "start_time": "2023-08-27T16:18:51.657112+00:00"
        }
      },
      "execution_count": null,
      "source": "!pip install ephem",
      "outputs": []
    },
    {
      "id": "9e951d82-5897-4016-b9f6-f7c8dc455f93",
      "cell_type": "code",
      "metadata": {
        "jupyter": {
          "outputs_hidden": false,
          "source_hidden": false
        },
        "noteable": {
          "cell_type": "code",
          "output_collection_id": "59ff3885-a255-48fe-aad8-32d02a0ababe"
        },
        "ExecuteTime": {
          "end_time": "2023-08-27T16:18:59.237618+00:00",
          "start_time": "2023-08-27T16:18:57.128037+00:00"
        }
      },
      "execution_count": null,
      "source": "import logging\nimport numpy as np\nimport pandas as pd\nimport seaborn as sns\nimport matplotlib.pyplot as plt\nfrom sklearn.ensemble import RandomForestRegressor\nfrom get_pond_data import PondDataHolder\nfrom evaluate_model_daily import ModelDailyEvaluator",
      "outputs": []
    },
    {
      "id": "f01add58-48ca-4d73-aabe-9cd2baca1240",
      "cell_type": "markdown",
      "source": "## Prediction of pond dissolved oxygen using weather data\n\nIn this notebook dissolved oxygen in aquaculture ponds is predicted using Random Forest model.",
      "metadata": {
        "noteable": {
          "cell_type": "markdown"
        }
      }
    },
    {
      "id": "b37ac061-e562-48d8-b51b-db43e6c922d1",
      "cell_type": "markdown",
      "source": "### Dataset Description\n\nThe dataset contains pond water quality parameters such as dissolved oxygen (DO) and temperature taken twice a day, in the morning and in the evening, secchi disc visibility, and weather data taken from a weather station located in a closest town.\n\nThe full description of the raw data can be found in get_pond_data.py module. The data that will remain after dropping useless or correlated columns is the following:\n\n- meas_lag: The lag in seconds between the measurement and sunrise/sunset.\n- o2: The level of dissolved oxygen in the pond water.\n- temp: The temperature of the water in the pond.\n- pressure: The atmospheric pressure recorded on the day of the measurement, in millimeters of mercury (mmHg).\n- secchi: The transparency of the water, measured in meters by Secchi disc visibility.\n- feed_kg: the amount of fish feed given to a pond.\n- sun_elev: sinus of max sun elevation angle for the given date.\n- moon_phase: The phase of the moon.\n- avg_temp: The average air temperature recorded on the day of the measurement.\n- delta_temp: The difference between min and max daily air temperature.\n- wind_spd: The wind speed recorded on the day of the measurement, in kilometers per hour.\n- wind_dir: The wind direction recorded on the day of the measurement, in degrees.\n- precip_mm: The amount of precipitation recorded on the day of the measurement, in millimeters.\n- cloud_cov: The percentage of the sky covered by clouds on the day of the measurement.\n- moonshine: An indicator that I made by multiplying duration of moonshine by the moon illuminated surface and by max moon elevation (sin)\n- days_passed: the number of days passed since first measurement was taken.\n- pond_no: The identifier of the pond where the measurement was taken. {'np1': 1, 'np2': 2, 'vp1': 3, 'vp2': 4, 'vp3': 5, 'vp4': 6}\n\nThe water measurements were taken at dusk or dawn.\nThe weather data is provided for every 24-hour interval from www.worldweatheronline.com\n\nNaNs for o2 and Secchi visibility are filled using interpolation in get_pond_data.py module.",
      "metadata": {
        "noteable": {
          "cell_type": "markdown"
        }
      }
    },
    {
      "id": "5a7e6455-2418-4f47-b26f-94285f2a65d1",
      "cell_type": "markdown",
      "source": "### Retrieve the data\n\nThe get_pond_data.py module has a PondDataHolder class that takes the csv file containing data for all ponds and creates a dictionary that holds a separate data frame for each pond.\n\nThe raw data rows each corresponds to a single measurement, while the data in the PondDataHolder is processed so that every row corresponds to a day and contains both morning and evening measurements.\n\nLet's use the module to load the data.",
      "metadata": {
        "noteable": {
          "cell_type": "markdown"
        }
      }
    },
    {
      "id": "a19792c0-8d65-4d17-8043-a85bf23af32e",
      "cell_type": "code",
      "metadata": {
        "noteable": {
          "cell_type": "python",
          "output_collection_id": "c3f9a690-c701-43e5-b1fc-066b4edc3a4e"
        },
        "ExecuteTime": {
          "end_time": "2023-08-27T16:18:59.693345+00:00",
          "start_time": "2023-08-27T16:18:59.247679+00:00"
        },
        "jupyter": {
          "source_hidden": false
        }
      },
      "execution_count": null,
      "source": "logging.basicConfig(level=logging.INFO)\n\nencode_ponds = {'np1': 1, 'np2': 2, 'vp1': 3, 'vp2': 4, 'vp3': 5, 'vp4': 6}\n\nponds_data = PondDataHolder(ponds_encode=encode_ponds,\n                            filename='pond_weather_combined_23.07.2023.csv')\n\n# Some ponds have too few data, or didn't have fish in them, so remove\nto_remove = ['lmp', 'zm1', 'vp5']\n\n# This populates the data holding dictionary and drops the useless data\nponds_data.populate_ponds_dict(to_remove)\n\n# Here morning and evening measurements are merged into daily measurements\nponds_data.merge_mor_eve()\n\n# Create target variable that is oxygen in the morning of the next day\n# We also let the model know the time at which the measurement will be taken tomorrow.\nponds_data.create_target_var_tmrw_mor()",
      "outputs": []
    },
    {
      "id": "12516f53-9020-403c-9417-e5c8081209dd",
      "cell_type": "markdown",
      "source": "Let's see what columns we end up having in our dataframes and see if some of them are correlated.",
      "metadata": {
        "noteable": {
          "cell_type": "markdown"
        }
      }
    },
    {
      "id": "e1137f51-1064-4c5f-b181-dd932ca6defe",
      "cell_type": "code",
      "metadata": {
        "noteable": {
          "cell_type": "python",
          "output_collection_id": "72073a0a-2c3f-4cb1-b644-fafe1875ba72"
        },
        "ExecuteTime": {
          "end_time": "2023-08-27T16:18:59.863270+00:00",
          "start_time": "2023-08-27T16:18:59.704310+00:00"
        },
        "jupyter": {
          "source_hidden": false
        }
      },
      "execution_count": null,
      "source": "print(ponds_data.ponds['np1'].columns)",
      "outputs": []
    },
    {
      "id": "b5e64b3f-cd01-4d9d-8a22-3604a5944369",
      "cell_type": "code",
      "metadata": {
        "jupyter": {
          "outputs_hidden": false,
          "source_hidden": true
        },
        "noteable": {
          "cell_type": "code",
          "output_collection_id": "0f738b6a-ee5b-4944-aad7-75979afdf8ba"
        },
        "ExecuteTime": {
          "end_time": "2023-08-27T16:19:00.808233+00:00",
          "start_time": "2023-08-27T16:18:59.912425+00:00"
        }
      },
      "execution_count": null,
      "source": "cols_to_check = ['wind_spd', 'wind_gust', 'cloud_cov', 'humidity', 'dew_pt', 'avg_temp', 'sun_sec','sun_elev']\n\n# Compute the correlation matrix\ncorr = ponds_data.ponds['np1'][cols_to_check].corr()\n\n# Create a heatmap\nplt.figure(figsize=(10, 8))  # You can specify your own figsize here\nsns.heatmap(corr, cmap='coolwarm', annot=True, fmt=\".2f\", linewidths=0.5, linecolor='white', vmin=-1, vmax=1)\n\nplt.title(\"Correlation Matrix\")\nplt.show()",
      "outputs": []
    },
    {
      "id": "9f14df47-f137-4077-98a1-35f928850e14",
      "cell_type": "markdown",
      "source": "### Drop useless columns\n\nWind speed and wind gust are linearly correlated, so keep the speed only\n\nHumidity and cloud coverage are correlated as well, so drop humidity\n\nDew_pt is correlated with air temperature\n\nWe have delta temp and avg temp for air, so no need for max and min\n\nsun_sec and sun_elev are correlated, so keep only sun_elev",
      "metadata": {
        "noteable": {
          "cell_type": "markdown"
        }
      }
    },
    {
      "id": "7f81afe1-1a24-44da-ac96-e00b3a1bbcad",
      "cell_type": "code",
      "metadata": {
        "noteable": {
          "cell_type": "python",
          "output_collection_id": "44025f79-4fd2-49b0-a41a-ffb711bddced"
        },
        "ExecuteTime": {
          "end_time": "2023-08-27T16:19:01.174653+00:00",
          "start_time": "2023-08-27T16:19:01.013294+00:00"
        },
        "jupyter": {
          "source_hidden": false
        }
      },
      "execution_count": null,
      "source": "cols_to_drop = ['weath_code', 'cloud_desc', 'sun_hr', 'uv_idx', 'date',\n                'sunrise', 'sunset', 'wind_gust', 'humidity', 'dew_pt',\n                'min_temp', 'max_temp', 'sun_sec', 'o2_sat_eve', 'o2_sat_mor']\nponds_data.drop_cols(cols_to_drop)",
      "outputs": []
    },
    {
      "id": "9d336206-f6d2-4ebc-a252-37ff6970f533",
      "cell_type": "markdown",
      "source": "The columns that are left:",
      "metadata": {
        "noteable": {
          "cell_type": "markdown"
        }
      }
    },
    {
      "id": "7600b065-d724-45cf-8d6b-9235db13150d",
      "cell_type": "code",
      "metadata": {
        "jupyter": {
          "outputs_hidden": false,
          "source_hidden": false
        },
        "noteable": {
          "cell_type": "code",
          "output_collection_id": "5ed60674-4723-4d76-9d4d-21ac7b587a1f"
        },
        "ExecuteTime": {
          "end_time": "2023-08-27T16:19:01.345158+00:00",
          "start_time": "2023-08-27T16:19:01.185895+00:00"
        }
      },
      "execution_count": null,
      "source": "print(ponds_data.ponds['np1'].columns)",
      "outputs": []
    },
    {
      "id": "a786828b-46c9-41de-9f05-b925bb5a5815",
      "cell_type": "markdown",
      "source": "### Lagged features\n\nLagged features are simply past values of our data. So, a 1-day lagged feature of our temperature data would be yesterday's temperature, a 2-day lag would be the temperature from two days ago, and so on.\n\nLet's create some lagged features with lag 1 and 2. The exclude list contains features which",
      "metadata": {
        "noteable": {
          "cell_type": "markdown"
        }
      }
    },
    {
      "id": "c8a80541-044b-4a8d-a47e-5068096d3a86",
      "cell_type": "code",
      "metadata": {
        "jupyter": {
          "outputs_hidden": false,
          "source_hidden": false
        },
        "noteable": {
          "cell_type": "code",
          "output_collection_id": "af779806-9ac9-469a-bc3e-8c937c0e9047"
        },
        "ExecuteTime": {
          "end_time": "2023-08-27T16:19:01.682507+00:00",
          "start_time": "2023-08-27T16:19:01.407007+00:00"
        }
      },
      "execution_count": null,
      "source": "exclude = ['days_passed', 'y', 'tmrw_meas_lag_mor', 'pond_no', 'sun_elev']\nponds_data.add_lagged_features(lag=2, exclude=exclude)\nprint(ponds_data.ponds['np1'].columns)",
      "outputs": []
    },
    {
      "id": "f208c311-f3eb-418b-a75a-0bb5333a4cf2",
      "cell_type": "markdown",
      "source": "Here is the Random Forest model. The parameters were adjusted using grid search.",
      "metadata": {
        "noteable": {
          "cell_type": "markdown"
        }
      }
    },
    {
      "id": "c1b643e8-d0a6-4b82-8847-c3f8a22a62b8",
      "cell_type": "code",
      "metadata": {
        "noteable": {
          "cell_type": "python",
          "output_collection_id": "b6adb5fa-1cf8-4134-ad77-2e5e2943b3b9"
        },
        "ExecuteTime": {
          "end_time": "2023-08-27T16:19:01.867778+00:00",
          "start_time": "2023-08-27T16:19:01.710161+00:00"
        },
        "jupyter": {
          "source_hidden": false
        }
      },
      "execution_count": null,
      "source": "best_parameters = {\n    'n_estimators': 100,\n    'max_depth': 20,\n    'max_features': 'sqrt',\n    'max_leaf_nodes': None,\n    'min_impurity_decrease': 0.0,\n    'min_samples_leaf': 2,\n    'min_samples_split': 2,\n    'min_weight_fraction_leaf': 0.0,\n    'n_jobs': -1\n}\n\nrf = RandomForestRegressor(**best_parameters)",
      "outputs": []
    },
    {
      "id": "c4209dc3-6478-4ddb-92ec-9bfb0a8fd2a3",
      "cell_type": "markdown",
      "source": "### Model in action\n\nMost of the code is hidden under the hood in the evaluate_model_daily.py module. In brief, all it does is trains the model on a window of several days, then predicts DO in the morning for the next day. It trains on data for all ponds combined. Then the window is extenden by one day forward and the process is repeated.\n\nBefore this, the most important features are selected using RFE (recursive feature elimination) from sklearn.feature_selection.\n\nThe importance of features for the model trained on the max window is plotted below. ",
      "metadata": {
        "noteable": {
          "cell_type": "markdown"
        }
      }
    },
    {
      "id": "e4af07ae-e302-42f5-8303-54b8536f42c9",
      "cell_type": "code",
      "metadata": {
        "jupyter": {
          "outputs_hidden": false,
          "source_hidden": false
        },
        "noteable": {
          "cell_type": "code",
          "output_collection_id": "356f3081-397e-4e51-918a-874bfd0f8574"
        },
        "ExecuteTime": {
          "end_time": "2023-08-27T16:19:25.634872+00:00",
          "start_time": "2023-08-27T16:19:01.939395+00:00"
        }
      },
      "execution_count": null,
      "source": "# It takes data as first argument and the dictionary with pond names encoding as the second\nevaluator = ModelDailyEvaluator(ponds_data.ponds, encode_ponds)\n\n# The first argument is our Random Forest model, the second is the maximum number of features\nresults = evaluator.evaluate_all_ponds_daily(rf, n_feat_rfe=20)",
      "outputs": []
    },
    {
      "id": "68c3315d-bc79-483a-aa35-557d758d2c72",
      "cell_type": "markdown",
      "source": "### Factors affecting dissolved oxygen\n\nBesides dissolved oxygen and water temperature for past days, the most important features were:\n\n- Sun elevation\n- The number of days passed\n- Moonshine\n- Atmospheric pressure\n- Pond number\n- Cloud coverage\n- Measurement lag in the evening (number of seconds between sunset and the measurement)\n- Amount of fish feed given\n- Time at which to predict oxygen the next day (tomorrow morning lag)",
      "metadata": {
        "noteable": {
          "cell_type": "markdown"
        }
      }
    },
    {
      "id": "a8e420f7-35b2-4988-8376-f9f5bdbb9e09",
      "cell_type": "markdown",
      "source": "### Results\n\nThe graphs show dissolved oxygen for each pond in the morning. One line is for the predicted data and the other is for the real.\n\nThe results are:\n\npond: np1, RMSE: 1.21, R2: 0.44\n\npond: np2, RMSE: 1.07, R2: 0.31\n\npond: vp1, RMSE: 2.15, R2: 0.42\n\npond: vp2, RMSE: 1.54, R2: 0.36\n\npond: vp3, RMSE: 1.39, R2: 0.58\n\npond: vp4, RMSE: 1.24, R2: 0.69\n\nThe model predicts ponds vp3 and vp4 data best, because oxygen diurnal oscillations are narrow and stable for these ponds.\n\nSARIMA model's results were better for stable ponds (vp3 and vp4) and worse for ponds with less diurnal seasonality:\n\npond: np1, RMSE: 1.744, R2: 0.26\n\npond: np2, RMSE: 1.512, R2: 0.12\n\npond: vp1, RMSE: 2.091, R2: 0.56\n\npond: vp2, RMSE: 1.972, R2: 0.40\n\npond: vp3, RMSE: 0.779, R2: 0.75\n\npond: vp4, RMSE: 0.992, R2: 0.74\n\nAs a reference a previous research titled \"Machine learning for manually-measured water quality prediction in fish farming\" published in PLoS One achieved an RMSE of 1.1787 and R2 of 0.62.\nhttps://journals.plos.org/plosone/article?id=10.1371/journal.pone.0256380",
      "metadata": {
        "noteable": {
          "cell_type": "markdown"
        }
      }
    },
    {
      "id": "a2fff30e",
      "cell_type": "code",
      "metadata": {
        "noteable": {
          "output_collection_id": "aaa414bf-5a5a-47cd-8de2-5f2a3049b328"
        },
        "ExecuteTime": {
          "end_time": "2023-08-27T16:19:29.626906+00:00",
          "start_time": "2023-08-27T16:19:26.109735+00:00"
        },
        "jupyter": {
          "source_hidden": true
        }
      },
      "execution_count": null,
      "source": "evaluator.plot_results(show_pic=True)",
      "outputs": []
    },
    {
      "id": "f424a804-ba42-44d7-b654-ed29783fc849",
      "cell_type": "code",
      "metadata": {
        "jupyter": {
          "outputs_hidden": false,
          "source_hidden": false
        },
        "noteable": {
          "cell_type": "code"
        }
      },
      "execution_count": null,
      "source": "",
      "outputs": []
    }
  ]
}